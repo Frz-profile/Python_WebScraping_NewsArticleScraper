{
 "cells": [
  {
   "cell_type": "code",
   "execution_count": 6,
   "id": "98fd2c33-18c2-4c80-9eb9-61503a841773",
   "metadata": {},
   "outputs": [
    {
     "name": "stdout",
     "output_type": "stream",
     "text": [
      "Requirement already satisfied: requests in c:\\anaconda3\\lib\\site-packages (2.32.3)\n",
      "Requirement already satisfied: charset-normalizer<4,>=2 in c:\\anaconda3\\lib\\site-packages (from requests) (3.3.2)\n",
      "Requirement already satisfied: idna<4,>=2.5 in c:\\anaconda3\\lib\\site-packages (from requests) (3.7)\n",
      "Requirement already satisfied: urllib3<3,>=1.21.1 in c:\\anaconda3\\lib\\site-packages (from requests) (2.2.3)\n",
      "Requirement already satisfied: certifi>=2017.4.17 in c:\\anaconda3\\lib\\site-packages (from requests) (2025.1.31)\n"
     ]
    }
   ],
   "source": [
    "!pip install requests"
   ]
  },
  {
   "cell_type": "code",
   "execution_count": 8,
   "id": "519df295-9375-447f-889b-34b68a4c5a6b",
   "metadata": {},
   "outputs": [
    {
     "name": "stdout",
     "output_type": "stream",
     "text": [
      "Requirement already satisfied: beautifulsoup4 in c:\\anaconda3\\lib\\site-packages (4.12.3)\n",
      "Requirement already satisfied: soupsieve>1.2 in c:\\anaconda3\\lib\\site-packages (from beautifulsoup4) (2.5)\n",
      "Note: you may need to restart the kernel to use updated packages.\n"
     ]
    }
   ],
   "source": [
    "pip install beautifulsoup4"
   ]
  },
  {
   "cell_type": "code",
   "execution_count": 8,
   "id": "d2986b3d-af00-4c92-b3df-1ba2574eddb4",
   "metadata": {},
   "outputs": [
    {
     "name": "stdout",
     "output_type": "stream",
     "text": [
      "Headline: Pekat wins RM97mil TNB job\n",
      "Article body: PETALING JAYA:\n",
      "Pekat Group Bhd\n",
      "has received a letter of award from\n",
      "Tenaga Nasional Bhd\n",
      "(TNB) worth RM97.26mil in relation to the supply of 11 kilovolts via a single busbar circuit for TNB’s distribution network.\n",
      "Pekat said the contract shall be effective from Feb 25, 2025 and shall be for a period of two years from the effective date.\n",
      "“The contract secured is expected to contribute positively towards the future earnings, earnings per share and net assets per share of Pekat and its subsidiaries for the financial year ending Dec 31, 2025 until the expiry of the contract.\n",
      "“The contract will not have any effect on the issued share capital and substantial shareholders’ shareholdings of the company,” it said.\n",
      "In the fourth quarter ended 31 December, Pekat’s net profit more than doubled to RM7.35 mil from RM3.5 mil a year ago, translating into an earnings per share of 1.14 sen compared to 0.55 sen previously.\n",
      "Revenue for the quarter jumped 61.7% to RM94.2mil from RM58.3mil a year ago.\n",
      "Publication Date: 2025-02-25 19:34:00\n"
     ]
    }
   ],
   "source": [
    "import requests\n",
    "from bs4 import BeautifulSoup\n",
    "\n",
    "url = 'https://www.thestar.com.my/business/business-news/2025/02/25/pekat-wins-rm97mil-tnb-job'\n",
    "headers = {\"User-Agent\": \"Mozilla/5.0\"}\n",
    "\n",
    "# Making a GET request\n",
    "response = requests.get(url, headers=headers)\n",
    "\n",
    "# Check if the request was successful\n",
    "if response.status_code == 200:\n",
    "    # Parsing the HTML\n",
    "    soup = BeautifulSoup(response.content, 'html.parser')\n",
    "\n",
    "    # Get headline\n",
    "    headline = soup.find('h1')\n",
    "    if headline:\n",
    "        print(f\"Headline: {headline.text.strip()}\")\n",
    "    else:\n",
    "        print(\"Headline not found.\")\n",
    "\n",
    "    # Get article body\n",
    "    article_body = soup.find(\"div\", class_=\"story\")\n",
    "    if article_body:\n",
    "        print(f\"Article body: {article_body.get_text(strip=True, separator='\\n')}\")\n",
    "    else:\n",
    "        print(\"Article body not found.\")\n",
    "\n",
    "    # Get publication date\n",
    "    date_tag = soup.find(\"meta\", {\"itemprop\": \"datePublished\"})\n",
    "    if date_tag:\n",
    "        print(\"Publication Date:\", date_tag[\"content\"])\n",
    "    else:\n",
    "        print(\"Publication date not found.\")\n",
    "else:\n",
    "    print(f\"Failed to retrieve the page. Status code: {response.status_code}\")\n"
   ]
  }
 ],
 "metadata": {
  "kernelspec": {
   "display_name": "Python 3 (ipykernel)",
   "language": "python",
   "name": "python3"
  },
  "language_info": {
   "codemirror_mode": {
    "name": "ipython",
    "version": 3
   },
   "file_extension": ".py",
   "mimetype": "text/x-python",
   "name": "python",
   "nbconvert_exporter": "python",
   "pygments_lexer": "ipython3",
   "version": "3.12.7"
  }
 },
 "nbformat": 4,
 "nbformat_minor": 5
}
